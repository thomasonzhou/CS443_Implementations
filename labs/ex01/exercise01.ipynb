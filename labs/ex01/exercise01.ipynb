{
 "cells": [
  {
   "cell_type": "markdown",
   "id": "ea16e448-3425-4cde-a296-32ce0e2d3d9e",
   "metadata": {},
   "source": [
    "# Exercise 01\n",
    "\n",
    "# Task A: Matrix Standardization"
   ]
  },
  {
   "cell_type": "code",
   "execution_count": null,
   "id": "f0dfbeb5-01b6-4a40-822a-508d239c432c",
   "metadata": {},
   "outputs": [],
   "source": [
    "%matplotlib inline\n",
    "import numpy as np\n",
    "import matplotlib.pyplot as plt\n",
    "%load ext autoreload\n",
    "%autoreload 2"
   ]
  }
 ],
 "metadata": {
  "kernelspec": {
   "display_name": "Python3",
   "language": "python",
   "name": "python3"
  },
  "language_info": {
   "codemirror_mode": {
    "name": "ipython",
    "version": 3
   },
   "file_extension": ".py",
   "mimetype": "text/x-python",
   "name": "python",
   "nbconvert_exporter": "python",
   "pygments_lexer": "ipython3",
   "version": "3.11.5"
  }
 },
 "nbformat": 4,
 "nbformat_minor": 5
}
